{
 "cells": [
  {
   "cell_type": "markdown",
   "metadata": {},
   "source": [
    "only considering seasons 1969-2019, since it will give us ~3000 positively-labeled data points (32 players*2 teams * 50 years)\n",
    "\n",
    "only position players (no pitchers or catchers)"
   ]
  },
  {
   "cell_type": "markdown",
   "metadata": {},
   "source": [
    "In this notebook, I'll build a Gaussian Naive Bayes Classifier to predict MLB Allstar appearances for position players (not pitchers or catchers).\n",
    "We'll train this classifier using data from 1969-2009"
   ]
  },
  {
   "cell_type": "code",
   "execution_count": 1,
   "metadata": {},
   "outputs": [],
   "source": [
    "import pandas as pd\n",
    "import numpy as np\n",
    "from sklearn.model_selection import train_test_split\n",
    "from sklearn.naive_bayes import GaussianNB\n",
    "from sklearn import metrics\n",
    "from matplotlib import pyplot as plt\n",
    "\n",
    "pd.set_option('display.max_rows', 500)\n",
    "pd.set_option('display.max_columns', 500)"
   ]
  },
  {
   "cell_type": "code",
   "execution_count": 2,
   "metadata": {},
   "outputs": [],
   "source": [
    "def format_people(people):\n",
    "    #keep only the important columns--no names because we won't want them as features of our model\n",
    "    people = people[['playerID', 'birthYear', 'birthMonth', 'birthDay', 'debut']]\n",
    "    #drop rows with NA\n",
    "    people = people.dropna()\n",
    "    #cast dates to ints, then strings, then concat and cast to datetime\n",
    "    people.birthYear = people.birthYear.astype(int)\n",
    "    people.birthDay = people.birthDay.astype(int)\n",
    "    people.birthMonth = people.birthMonth.astype(int)\n",
    "    people.birthYear = people.birthYear.astype(str)\n",
    "    people.birthDay = people.birthDay.astype(str)\n",
    "    people.birthMonth = people.birthMonth.astype(str)\n",
    "    people['bday'] = people['birthYear'] + '-' + people['birthMonth'] + '-' + people['birthDay']\n",
    "    people.bday = pd.to_datetime(people.bday, infer_datetime_format=True)\n",
    "    #cast debut to datetime also\n",
    "    people.debut = pd.to_datetime(people.debut, infer_datetime_format=True)\n",
    "    #get rid of the 3 date cols that we combined\n",
    "    people = people[['playerID', 'bday', 'debut']]\n",
    "    return people\n",
    "\n",
    "def format_batting(batting):\n",
    "    #get only the data for 1968 and on\n",
    "    batting = batting[batting.yearID >1968]\n",
    "    #drop irrelevant cols-don't need to include teamID and lgID because teams and leagues should have equal representation,\n",
    "    #so it shouldn't have any effect on whether or not a player makes it.  The others aren't expected to have predictive power.\n",
    "    batting = batting.drop(['teamID', 'lgID', 'CS', 'HBP', 'SH', 'SF', 'GIDP'], axis=1)\n",
    "    #drop nas\n",
    "    batting = batting.dropna()\n",
    "    #make a lambda function to sum the columns in the following line\n",
    "    add = lambda x: x.astype(int).sum()\n",
    "    #group by player number and yearID to sum stats for players who have >1 stint in a year\n",
    "    batting = batting.groupby(['playerID', 'yearID'])['G', 'AB', 'R', 'H', 'HR', 'RBI', 'SB', 'BB', 'SO', 'IBB'].apply(add)\n",
    "    #collapse multi-index\n",
    "    batting = batting.reset_index()\n",
    "    return batting\n",
    "\n",
    "def format_fielding(fielding):\n",
    "    #get only the data for 1968 and on\n",
    "    fielding = fielding[fielding.yearID >1968]\n",
    "    #drop irrelevant cols-drop team, league, stint, GS, InnOuts bc not relevant/multicollinear\n",
    "    #drop the rest bc they pertain to pitchers and catchers\n",
    "    fielding = fielding.drop(['teamID', 'stint', 'lgID', 'GS', 'InnOuts', 'PB', 'WP', 'CS', 'ZR', 'G', 'SB'], axis=1)\n",
    "    #drop pitchers and catchers\n",
    "    fielding = fielding[fielding['POS']!='C']\n",
    "    fielding = fielding[fielding['POS']!='P']\n",
    "    #drop nas\n",
    "    fielding = fielding.dropna()\n",
    "    #make lambda\n",
    "    add = lambda x:x.astype(int).sum()\n",
    "    #group by playerID and year, then sum other cols\n",
    "    fielding = fielding.groupby(['playerID', 'yearID'])[ 'PO', 'A', 'E', 'DP'].apply(add)\n",
    "    \n",
    "    fielding = fielding.reset_index()\n",
    "    return fielding\n",
    "\n",
    "\n",
    "def format_allstars(allstars):\n",
    "    #get only 1968 and on\n",
    "    allstars = allstars[allstars.yearID>1968]\n",
    "    #drop irrelevant columns\n",
    "    allstars = allstars.drop(['teamID', 'lgID', 'GP', 'startingPos', 'gameID', 'gameNum'], axis=1)\n",
    "    allstars['star'] = 1\n",
    "    return allstars\n",
    "\n",
    "def format_data(people, batting, fielding, allstars):\n",
    "    fp = format_people(people)\n",
    "    fb = format_batting(batting)\n",
    "    ff = format_fielding(fielding)\n",
    "    fa = format_allstars(allstars)\n",
    "    \n",
    "    #merge the DFs\n",
    "    pb = fp.merge(fb, on='playerID', how='inner')\n",
    "    pbf = pb.merge(ff, on=['playerID', 'yearID'], how='inner')\n",
    "    df = pbf.merge(fa, on=['playerID', 'yearID'], how='left')\n",
    "    #fill in the NaNs in df.star and cast to int\n",
    "    df['star'] = df['star'].fillna(0.0)\n",
    "    df['star'] = df['star'].astype(int)\n",
    "    df = df.drop(['playerID', 'yearID', 'bday', 'debut'], axis=1)\n",
    "\n",
    "    #split into X and y (features and labels)\n",
    "    X = df.drop(['star'], axis=1)\n",
    "    y = df['star']\n",
    "    return (X, y)\n",
    "\n",
    "    \n",
    "def plot_pr(y_test, y_hat):\n",
    "    precision, recall, t = metrics.precision_recall_curve(y_test, y_hat)\n",
    "    plt.plot(precision, recall)\n",
    "    plt.xlim([0,1])\n",
    "    plt.ylim([0,1])\n",
    "    plt.xlabel('precision')\n",
    "    plt.ylabel('recall')\n",
    "    plt.title('Precision-Recall Curve')\n",
    "    plt.show()\n",
    "    \n",
    "def plot_auc(y_test, y_hat):\n",
    "    print(\"sklearn ROC AUC Score A:\", metrics.roc_auc_score(y_test, y_hat))\n",
    "    fpr, tpr, _ = metrics.roc_curve(y_test, y_hat)\n",
    "    plt.figure()\n",
    "    plt.plot(fpr, tpr, color='darkorange',\n",
    "             lw=2, label='ROC curve')\n",
    "    plt.plot([0, 1], [0, 1], color='navy', lw=2, linestyle='--') #center line\n",
    "    plt.xlim([0.0, 1.0])\n",
    "    plt.ylim([0.0, 1.05])\n",
    "    plt.xlabel('False Positive Rate')\n",
    "    plt.ylabel('True Positive Rate')\n",
    "    plt.title('Receiver operating characteristic example')\n",
    "    plt.legend(loc=\"lower right\")\n",
    "    plt.show()"
   ]
  },
  {
   "cell_type": "code",
   "execution_count": 3,
   "metadata": {},
   "outputs": [],
   "source": [
    "#read the files into DFs from csv\n",
    "people = pd.read_csv('People.csv')\n",
    "batting = pd.read_csv('Batting.csv')\n",
    "fielding = pd.read_csv('Fielding.csv')\n",
    "allstars = pd.read_csv('AllstarFull.csv')\n",
    "\n",
    "#format the input data\n",
    "X, y = format_data(people, batting, fielding, allstars)\n"
   ]
  },
  {
   "cell_type": "markdown",
   "metadata": {},
   "source": [
    "Use sklearn to train and evaluate our Guassian Naive Bayes Classifier."
   ]
  },
  {
   "cell_type": "code",
   "execution_count": 4,
   "metadata": {
    "scrolled": true
   },
   "outputs": [
    {
     "name": "stdout",
     "output_type": "stream",
     "text": [
      "Accuracy:  0.8115971107544141\n",
      "Recall:  0.8997429305912596\n",
      "Precision:  0.28\n",
      "F1 Score:  0.42708968883465537\n",
      "ROC AUC:  0.8519389299311032\n",
      "Confusion Matrix: \n",
      " [[3695  900]\n",
      " [  39  350]] \n",
      "[[TN FP] \n",
      "[FN TP]]\n"
     ]
    },
    {
     "data": {
      "image/png": "[encoded data removed]",
      "text/plain": [
       "<Figure size 432x288 with 1 Axes>"
      ]
     },
     "metadata": {
      "needs_background": "light"
     },
     "output_type": "display_data"
    },
    {
     "name": "stdout",
     "output_type": "stream",
     "text": [
      "sklearn ROC AUC Score A: 0.8519389299311032\n"
     ]
    },
    {
     "data": {
      "image/png": "[encoded data removed]",
      "text/plain": [
       "<Figure size 432x288 with 1 Axes>"
      ]
     },
     "metadata": {
      "needs_background": "light"
     },
     "output_type": "display_data"
    }
   ],
   "source": [
    "#split into train and test sets\n",
    "X_train, X_test, y_train, y_test = train_test_split(X, y, test_size=.2, random_state=88)\n",
    "\n",
    "#create the classifier\n",
    "model = GaussianNB()\n",
    "\n",
    "#train the model\n",
    "model.fit(X_train, y_train)\n",
    "\n",
    "#predict output\n",
    "y_hat = model.predict(X_test)\n",
    "\n",
    "#evaluate\n",
    "print('Accuracy: ', metrics.accuracy_score(y_test, y_hat))\n",
    "print('Recall: ', metrics.recall_score(y_test, y_hat))\n",
    "print('Precision: ', metrics.precision_score(y_test, y_hat))\n",
    "print('F1 Score: ', metrics.f1_score(y_test, y_hat))\n",
    "print('ROC AUC: ', metrics.roc_auc_score(y_test, y_hat))\n",
    "print('Confusion Matrix: \\n', metrics.confusion_matrix(y_test, y_hat), '\\n[[TN FP] \\n[FN TP]]')\n",
    "plot_pr(y_test, y_hat)\n",
    "plot_auc(y_test, y_hat)"
   ]
  },
  {
   "cell_type": "markdown",
   "metadata": {},
   "source": []
  },
  {
   "cell_type": "code",
   "execution_count": null,
   "metadata": {},
   "outputs": [],
   "source": []
  }
 ],
 "metadata": {
  "kernelspec": {
   "display_name": "Python 3",
   "language": "python",
   "name": "python3"
  },
  "language_info": {
   "codemirror_mode": {
    "name": "ipython",
    "version": 3
   },
   "file_extension": ".py",
   "mimetype": "text/x-python",
   "name": "python",
   "nbconvert_exporter": "python",
   "pygments_lexer": "ipython3",
   "version": "3.7.4"
  }
 },
 "nbformat": 4,
 "nbformat_minor": 2
}
