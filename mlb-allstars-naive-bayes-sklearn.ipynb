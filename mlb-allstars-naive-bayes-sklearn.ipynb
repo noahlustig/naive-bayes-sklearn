{
 "cells": [
  {
   "cell_type": "markdown",
   "metadata": {},
   "source": [
    "only considering seasons 1969-2019, since it will give us ~3000 positively-labeled data points (32 players*2 teams * 50 years)\n",
    "\n",
    "only position players (no pitchers or catchers)\n",
    "\n",
    "only players with >50 games (batting), no minimum games for fielding bc pinch hitters and DHs\n",
    "\n",
    "merge fp with fb first, then others (inner merges)\n",
    "\n",
    "G in the final DF is fielding games"
   ]
  },
  {
   "cell_type": "code",
   "execution_count": 1,
   "metadata": {},
   "outputs": [],
   "source": [
    "import pandas as pd\n",
    "import numpy as np\n",
    "from sklearn.model_selection import train_test_split\n",
    "from sklearn.naive_bayes import GaussianNB\n",
    "from sklearn import metrics\n",
    "\n",
    "pd.set_option('display.max_rows', 500)\n",
    "pd.set_option('display.max_columns', 500)"
   ]
  },
  {
   "cell_type": "code",
   "execution_count": 2,
   "metadata": {},
   "outputs": [],
   "source": [
    "#read the files into DFs from csv\n",
    "people = pd.read_csv('People.csv')\n",
    "batting = pd.read_csv('Batting.csv')\n",
    "fielding = pd.read_csv('Fielding.csv')\n",
    "allstars = pd.read_csv('AllstarFull.csv')"
   ]
  },
  {
   "cell_type": "code",
   "execution_count": 3,
   "metadata": {},
   "outputs": [],
   "source": [
    "def format_people(people):\n",
    "    #keep only the important columns--no names cause we won't want them in the feature space\n",
    "    people = people[['playerID', 'birthYear', 'birthMonth', 'birthDay', 'debut']]\n",
    "    #drop rows with NA\n",
    "    people = people.dropna()\n",
    "    #cast dates to ints, then strings, then concat and cast to datetime\n",
    "    people.birthYear = people.birthYear.astype(int)\n",
    "    people.birthDay = people.birthDay.astype(int)\n",
    "    people.birthMonth = people.birthMonth.astype(int)\n",
    "    people.birthYear = people.birthYear.astype(str)\n",
    "    people.birthDay = people.birthDay.astype(str)\n",
    "    people.birthMonth = people.birthMonth.astype(str)\n",
    "    people['bday'] = people['birthYear'] + '-' + people['birthMonth'] + '-' + people['birthDay']\n",
    "    people.bday = pd.to_datetime(people.bday, infer_datetime_format=True)\n",
    "    #cast debut to datetime also\n",
    "    people.debut = pd.to_datetime(people.debut, infer_datetime_format=True)\n",
    "    #get rid of the 3 date cols that we combined\n",
    "    people = people[['playerID', 'bday', 'debut']]\n",
    "    return people\n",
    "\n",
    "def format_batting(batting):\n",
    "    #get only the data for 1968 and on\n",
    "    batting = batting[batting.yearID >1968]\n",
    "    #drop irrelevant cols-don't need to include teamID and lgID because teams and leagues should have equal representation,\n",
    "    #so it shouldn't have any effect on whether or not a player makes it.  The others aren't expected to have predictive power.\n",
    "    batting = batting.drop(['teamID', 'lgID', 'CS', 'HBP', 'SH', 'SF', 'GIDP'], axis=1)\n",
    "    #drop nas\n",
    "    batting = batting.dropna()\n",
    "    #make a lambda function to sum the columns in the following line\n",
    "    add = lambda x: x.astype(int).sum()\n",
    "    #group by player number and yearID to sum stats for players who have >1 stint in a year\n",
    "    batting = batting.groupby(['playerID', 'yearID'])['G', 'AB', 'R', 'H', 'HR', 'RBI', 'SB', 'BB', 'SO', 'IBB'].apply(add)\n",
    "    #collapse multi-index\n",
    "    batting = batting.reset_index()\n",
    "    #only consider players with more than 50 games in a year\n",
    "    batting = batting[batting['G'] > 50]\n",
    "    return batting\n",
    "\n",
    "def format_fielding(fielding):\n",
    "    #get only the data for 1968 and on\n",
    "    fielding = fielding[fielding.yearID >1968]\n",
    "    #drop irrelevant cols-drop team, league, stint, GS, InnOuts bc not relevant/multicollinear\n",
    "    #drop the rest bc they pertain to pitchers and catchers\n",
    "    fielding = fielding.drop(['teamID', 'stint', 'lgID', 'GS', 'InnOuts', 'PB', 'WP', 'CS', 'ZR', 'G', 'SB'], axis=1)\n",
    "    #drop pitchers and catchers\n",
    "    fielding = fielding[fielding['POS']!='C']\n",
    "    fielding = fielding[fielding['POS']!='P']\n",
    "    #drop nas\n",
    "    fielding = fielding.dropna()\n",
    "    #make lambda\n",
    "    add = lambda x:x.astype(int).sum()\n",
    "    #group by playerID and year, then sum other cols\n",
    "    fielding = fielding.groupby(['playerID', 'yearID'])[ 'PO', 'A', 'E', 'DP'].apply(add)\n",
    "    \n",
    "    fielding = fielding.reset_index()\n",
    "    return fielding\n",
    "\n",
    "\n",
    "def format_allstars(allstars):\n",
    "    #get only 1968 and on\n",
    "    allstars = allstars[allstars.yearID>1968]\n",
    "    #drop irrelevant columns\n",
    "    allstars = allstars.drop(['teamID', 'lgID', 'GP', 'startingPos', 'gameID', 'gameNum'], axis=1)\n",
    "    allstars['star'] = 1\n",
    "    return allstars\n"
   ]
  },
  {
   "cell_type": "code",
   "execution_count": 4,
   "metadata": {},
   "outputs": [],
   "source": [
    "fp = format_people(people)\n",
    "fb = format_batting(batting)\n",
    "ff = format_fielding(fielding)\n",
    "fa = format_allstars(allstars)"
   ]
  },
  {
   "cell_type": "code",
   "execution_count": 5,
   "metadata": {},
   "outputs": [
    {
     "ename": "NameError",
     "evalue": "name 'y' is not defined",
     "output_type": "error",
     "traceback": [
      "\u001b[1;31m---------------------------------------------------------------------------\u001b[0m",
      "\u001b[1;31mNameError\u001b[0m                                 Traceback (most recent call last)",
      "\u001b[1;32m<ipython-input-5-0ca7123b26f6>\u001b[0m in \u001b[0;36m<module>\u001b[1;34m\u001b[0m\n\u001b[0;32m     12\u001b[0m \u001b[1;33m\u001b[0m\u001b[0m\n\u001b[0;32m     13\u001b[0m \u001b[1;31m#split into train and test sets\u001b[0m\u001b[1;33m\u001b[0m\u001b[1;33m\u001b[0m\u001b[1;33m\u001b[0m\u001b[0m\n\u001b[1;32m---> 14\u001b[1;33m \u001b[0mX_train\u001b[0m\u001b[1;33m,\u001b[0m \u001b[0mX_test\u001b[0m\u001b[1;33m,\u001b[0m \u001b[0my_train\u001b[0m\u001b[1;33m,\u001b[0m \u001b[0my_test\u001b[0m \u001b[1;33m=\u001b[0m \u001b[0mtrain_test_split\u001b[0m\u001b[1;33m(\u001b[0m\u001b[0mX\u001b[0m\u001b[1;33m,\u001b[0m \u001b[0my\u001b[0m\u001b[1;33m,\u001b[0m \u001b[0mtest_size\u001b[0m\u001b[1;33m=\u001b[0m\u001b[1;36m.2\u001b[0m\u001b[1;33m,\u001b[0m \u001b[0mrandom_state\u001b[0m\u001b[1;33m=\u001b[0m\u001b[1;36m88\u001b[0m\u001b[1;33m)\u001b[0m\u001b[1;33m\u001b[0m\u001b[1;33m\u001b[0m\u001b[0m\n\u001b[0m\u001b[0;32m     15\u001b[0m \u001b[1;33m\u001b[0m\u001b[0m\n\u001b[0;32m     16\u001b[0m \u001b[1;31m#create the classifier\u001b[0m\u001b[1;33m\u001b[0m\u001b[1;33m\u001b[0m\u001b[1;33m\u001b[0m\u001b[0m\n",
      "\u001b[1;31mNameError\u001b[0m: name 'y' is not defined"
     ]
    }
   ],
   "source": [
    "#merge the DFs\n",
    "pb = fp.merge(fb, on='playerID', how='inner')\n",
    "pbf = pb.merge(ff, on=['playerID', 'yearID'], how='inner')\n",
    "df = pbf.merge(fa, on=['playerID', 'yearID'], how='left')\n",
    "#fill in the NaNs in df.star and cast to int\n",
    "df['star'] = df['star'].fillna(0.0)\n",
    "df['star'] = df['star'].astype(int)\n",
    "df = df.drop(['playerID', 'yearID', 'bday', 'debut'], axis=1)\n",
    "\n",
    "#split into X and y (features and labels)\n",
    "X = df.drop(['star'], axis=1)\n",
    "y = df['']\n",
    "#split into train and test sets\n",
    "X_train, X_test, y_train, y_test = train_test_split(X, y, test_size=.2, random_state=88)\n",
    "\n",
    "#create the classifier\n",
    "model = GaussianNB()\n",
    "\n",
    "#train the model\n",
    "model.fit(X_train, y_train)\n",
    "\n",
    "#predict output\n",
    "y_hat = model.predict(X_test)\n",
    "\n",
    "#evaluate\n",
    "print('Accuracy: ', metrics.accuracy_score(y_test, y_hat))"
   ]
  },
  {
   "cell_type": "code",
   "execution_count": null,
   "metadata": {},
   "outputs": [],
   "source": [
    "df.head(50)"
   ]
  },
  {
   "cell_type": "code",
   "execution_count": null,
   "metadata": {},
   "outputs": [],
   "source": [
    "pbf.head()\n",
    "print(pbf.shape[0])\n",
    "print(fa.shape[0])"
   ]
  },
  {
   "cell_type": "code",
   "execution_count": null,
   "metadata": {},
   "outputs": [],
   "source": [
    "fa.head()"
   ]
  },
  {
   "cell_type": "code",
   "execution_count": null,
   "metadata": {},
   "outputs": [],
   "source": [
    "pb.head()"
   ]
  },
  {
   "cell_type": "code",
   "execution_count": null,
   "metadata": {},
   "outputs": [],
   "source": [
    "fp.head()"
   ]
  },
  {
   "cell_type": "code",
   "execution_count": null,
   "metadata": {},
   "outputs": [],
   "source": [
    "fb.head()"
   ]
  },
  {
   "cell_type": "code",
   "execution_count": null,
   "metadata": {},
   "outputs": [],
   "source": [
    "ff.head()"
   ]
  }
 ],
 "metadata": {
  "kernelspec": {
   "display_name": "Python 3",
   "language": "python",
   "name": "python3"
  },
  "language_info": {
   "codemirror_mode": {
    "name": "ipython",
    "version": 3
   },
   "file_extension": ".py",
   "mimetype": "text/x-python",
   "name": "python",
   "nbconvert_exporter": "python",
   "pygments_lexer": "ipython3",
   "version": "3.7.3"
  }
 },
 "nbformat": 4,
 "nbformat_minor": 2
}
